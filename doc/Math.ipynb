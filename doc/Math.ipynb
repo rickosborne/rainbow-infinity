{
 "cells": [
  {
   "cell_type": "markdown",
   "id": "96d37afc",
   "metadata": {},
   "source": [
    "# Math"
   ]
  },
  {
   "cell_type": "markdown",
   "id": "218e6be4",
   "metadata": {},
   "source": [
    "Presume the center (cross) of the ribbon is at `(0,0)`."
   ]
  },
  {
   "cell_type": "code",
   "execution_count": 47,
   "id": "654ef7d9",
   "metadata": {},
   "outputs": [],
   "source": [
    "const ellipseX = 0;\n",
    "const ellipseY = 0;"
   ]
  },
  {
   "cell_type": "markdown",
   "id": "276648b1",
   "metadata": {},
   "source": [
    "Presume a square view box."
   ]
  },
  {
   "cell_type": "code",
   "execution_count": 6,
   "id": "d28e7641",
   "metadata": {},
   "outputs": [],
   "source": [
    "const viewWidth = 512;\n",
    "const viewHeight = viewWidth;"
   ]
  },
  {
   "cell_type": "markdown",
   "id": "e8c51fc9",
   "metadata": {},
   "source": [
    "We know the two ellipses are a specified distance apart.\n",
    "Each has two radii."
   ]
  },
  {
   "cell_type": "code",
   "execution_count": 84,
   "id": "7c87d945",
   "metadata": {},
   "outputs": [],
   "source": [
    "const ellipseDistance = 160;\n",
    "const ellipseRX = 64;\n",
    "const ellipseRY = 32;"
   ]
  },
  {
   "cell_type": "markdown",
   "id": "1f777d9c",
   "metadata": {},
   "source": [
    "The intersection point is then half the distance between the ellipses:"
   ]
  },
  {
   "cell_type": "code",
   "execution_count": 85,
   "id": "1bdede42",
   "metadata": {},
   "outputs": [],
   "source": [
    "const crossX = ellipseDistance / 2;\n",
    "const crossY = 0;"
   ]
  },
  {
   "cell_type": "markdown",
   "id": "dafcd093",
   "metadata": {},
   "source": [
    "We can express the equation of the ellipse as:"
   ]
  },
  {
   "cell_type": "markdown",
   "id": "b5697c1d",
   "metadata": {},
   "source": [
    "$$\n",
    "\\frac{intersectX^2}{{ellipseRX}^2} + \\frac{intersectY^2}{{ellipseRY}^2} = 1\n",
    "$$"
   ]
  },
  {
   "cell_type": "markdown",
   "id": "eaf718a4",
   "metadata": {},
   "source": [
    "$$\n",
    "({ellipseRY}^2)({intersectX}^2) + ({ellipseRX}^2)({intersectY}^2)\n",
    "= {{eclipseRX}^2} * {{eclipseRY}^2}\n",
    "$$"
   ]
  },
  {
   "cell_type": "markdown",
   "id": "653dfd31",
   "metadata": {},
   "source": [
    "$$\n",
    "{intersectY}^2 = \n",
    "(1 - \\frac{intersectX^2}{{ellipseRX}^2})({ellipseRY}^2)\n",
    "$$"
   ]
  },
  {
   "cell_type": "markdown",
   "id": "c709ba75",
   "metadata": {},
   "source": [
    "Taking the implicit derivative of each side:"
   ]
  },
  {
   "cell_type": "markdown",
   "id": "a57200d7",
   "metadata": {},
   "source": [
    "$$\n",
    "2({ellipseRY}^2)({intersectX}) + 2({ellipseRX}^2)({intersectY})\\frac{dy}{dx} = 0\n",
    "$$"
   ]
  },
  {
   "cell_type": "markdown",
   "id": "6aaff697",
   "metadata": {},
   "source": [
    "$$\n",
    "\\frac{dy}{dx} = -\\frac{({ellipseRY}^2)({intersectX})}{({ellipseRX}^2)({intersectY})}\n",
    "$$"
   ]
  },
  {
   "cell_type": "markdown",
   "id": "e4110d16",
   "metadata": {},
   "source": [
    "Slope-intercept:"
   ]
  },
  {
   "cell_type": "markdown",
   "id": "9510cd91",
   "metadata": {},
   "source": [
    "$$\n",
    "y = mx + b\n",
    "$$"
   ]
  },
  {
   "cell_type": "markdown",
   "id": "fe49717a",
   "metadata": {},
   "source": [
    "$$\n",
    "y = \\frac{{intersectY}-{crossY}}{{intersectX}-{crossX}}x + b\n",
    "$$"
   ]
  },
  {
   "cell_type": "markdown",
   "id": "0e15c97c",
   "metadata": {},
   "source": [
    "$$\n",
    "-\\frac{({ellipseRY}^2)({intersectX})}{({ellipseRX}^2)({intersectY})} = \\frac{{intersectY}-crossY}{{intersectX}-crossX}\n",
    "$$"
   ]
  },
  {
   "cell_type": "markdown",
   "id": "1823cdae",
   "metadata": {},
   "source": [
    "$$\n",
    "-({intersectX}-{crossX})({ellipseRY}^2)({intersectX}) = ({ellipseRX}^2)({intersectY})({intersectY}-{crossY})\n",
    "$$"
   ]
  },
  {
   "cell_type": "markdown",
   "id": "1b3c9106",
   "metadata": {},
   "source": [
    "$$\n",
    "-({intersectX}^2-({crossX})({intersectX}))({ellipseRY}^2) = ({ellipseRX}^2)({intersectY}^2-({crossY})({intersectY)})\n",
    "$$"
   ]
  },
  {
   "cell_type": "markdown",
   "id": "69e7c7c0",
   "metadata": {},
   "source": [
    "$$\n",
    "-({ellipseRY}^2)({intersectX}^2)+({ellipseRY}^2)({crossX})({intersectX}) = ({ellipseRX}^2)({intersectY}^2)-({ellipseRX}^2)({crossY})({intersectY})\n",
    "$$"
   ]
  },
  {
   "cell_type": "markdown",
   "id": "18a9c2d7",
   "metadata": {},
   "source": [
    "$$\n",
    "({ellipseRY}^2)({intersectX}^2)+({ellipseRX}^2)({intersectY}^2)\n",
    "=\n",
    "({ellipseRX}^2)({crossY})({intersectY})+({ellipseRY}^2)({crossX})({intersectX})\n",
    "$$"
   ]
  },
  {
   "cell_type": "markdown",
   "id": "ddce0fde",
   "metadata": {},
   "source": [
    "Set them equal:"
   ]
  },
  {
   "cell_type": "markdown",
   "id": "c5b1d2c7",
   "metadata": {},
   "source": [
    "$$\n",
    "({eclipseRX}^2)({eclipseRY}^2)\n",
    "=\n",
    "({ellipseRX}^2)({crossY})({intersectY})+({ellipseRY}^2)({crossX})({intersectX})\n",
    "$$"
   ]
  },
  {
   "cell_type": "markdown",
   "id": "e63365b6",
   "metadata": {},
   "source": [
    "When `crossY` is zero:\n",
    "\n",
    "$$\n",
    "({eclipseRX}^2)({eclipseRY}^2)=({ellipseRY}^2)({crossX})({intersectX})\n",
    "$$\n",
    "\n",
    "$$\n",
    "{intersectX}=\\frac{({eclipseRX}^2)}{({crossX})}\n",
    "$$\n"
   ]
  },
  {
   "cell_type": "markdown",
   "id": "2e201606",
   "metadata": {},
   "source": [
    "Therefore:\n",
    "\n",
    "$$\n",
    "intersectY = \\pm({ellipseRY})\\sqrt{(1 - \\frac{intersectX^2}{{ellipseRX}^2})}\n",
    "$$"
   ]
  },
  {
   "cell_type": "code",
   "execution_count": 88,
   "id": "8af56ed4",
   "metadata": {},
   "outputs": [],
   "source": [
    "const p = (v: number, e: number) => Math.pow(v, e);\n",
    "const scale = 0.001;\n",
    "const sq = (v: number) => v * v;\n",
    "\n",
    "const intersectX = sq(ellipseRX) / crossX;\n",
    "const intersectY = ellipseRY * Math.sqrt((1 - (sq(intersectX) / sq(ellipseRX))));\n",
    "const slope = (crossY - intersectY) / (crossX - intersectX);"
   ]
  },
  {
   "cell_type": "code",
   "execution_count": 89,
   "id": "b8f6abac",
   "metadata": {},
   "outputs": [
    {
     "name": "stdout",
     "output_type": "stream",
     "text": [
      "\u001b[33m64\u001b[39m \u001b[33m32\u001b[39m \u001b[33m80\u001b[39m \u001b[33m0\u001b[39m\n",
      "\u001b[33m51.2\u001b[39m \u001b[33m19.199999999999996\u001b[39m\n",
      "\u001b[33m-0.6666666666666666\u001b[39m\n"
     ]
    }
   ],
   "source": [
    "console.log(ellipseRX, ellipseRY, crossX, crossY);\n",
    "console.log(intersectX, intersectY);\n",
    "console.log(slope);"
   ]
  },
  {
   "cell_type": "code",
   "execution_count": null,
   "id": "97cf8e1f",
   "metadata": {},
   "outputs": [],
   "source": []
  }
 ],
 "metadata": {
  "kernelspec": {
   "display_name": "TypeScript",
   "language": "typescript",
   "name": "tslab"
  },
  "language_info": {
   "codemirror_mode": {
    "mode": "typescript",
    "name": "javascript",
    "typescript": true
   },
   "file_extension": ".ts",
   "mimetype": "text/typescript",
   "name": "typescript",
   "version": "3.7.2"
  }
 },
 "nbformat": 4,
 "nbformat_minor": 5
}
